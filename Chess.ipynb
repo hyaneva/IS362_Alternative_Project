{
 "cells": [
  {
   "cell_type": "code",
   "execution_count": 4,
   "id": "c321622c",
   "metadata": {},
   "outputs": [],
   "source": [
    "import re\n",
    "import csv"
   ]
  },
  {
   "cell_type": "code",
   "execution_count": 5,
   "id": "a0f7224c",
   "metadata": {},
   "outputs": [],
   "source": [
    "#Open and read the file\n",
    "with open(\"chess_tournament.txt\") as f:\n",
    "    lines = f.read().splitlines()\n",
    "\n",
    "#Remove empty lines first\n",
    "lines = [line for line in lines if line]\n",
    "\n",
    "#Then remove lines that are only made of dashes\n",
    "lines = [line for line in lines if set(line) != {\"-\"}]"
   ]
  },
  {
   "cell_type": "code",
   "execution_count": 6,
   "id": "18c2144e",
   "metadata": {},
   "outputs": [],
   "source": [
    "#Find the starting point where player records begin\n",
    "record_start = next(i for i, line in enumerate(lines) if re.match(r'\\s*\\d+', line))\n",
    "\n",
    "#Group the lines into pairs: main record and details for each player\n",
    "records = [(lines[i], lines[i+1]) for i in range(record_start, len(lines), 2)]"
   ]
  },
  {
   "cell_type": "code",
   "execution_count": 7,
   "id": "c45c0aeb",
   "metadata": {},
   "outputs": [],
   "source": [
    "#Create a dictionary to hold all player data\n",
    "players = {}\n",
    "\n",
    "#Go through each record (main line and detail line)\n",
    "for main, detail in records:\n",
    "    main_parts = [part.strip() for part in main.split('|')]\n",
    "    detail_parts = [part.strip() for part in detail.split('|')]\n",
    "\n",
    "    #First part is the player's number\n",
    "    player_number = int(main_parts[0])  \n",
    "    name = main_parts[1]\n",
    "    \n",
    "    #Ensure total_points is treated as a numeric value (either int or float based on format)\n",
    "    total_points = main_parts[2]\n",
    "    try:\n",
    "        total_points = float(total_points)  #or int(total_points) if it's an integer\n",
    "    except ValueError:\n",
    "        total_points = 0  #Default to 0 if conversion fails\n",
    "\n",
    "    state = detail_parts[0]\n",
    "\n",
    "    #Get rating from something like \"R: 1794\"\n",
    "    rating_match = re.search(r'R:\\s*(\\d+)', detail_parts[1])\n",
    "    rating = int(rating_match.group(1)) if rating_match else 0  # Default to 0 if no match found\n",
    "    \n",
    "    #Get opponent numbers from the rest of the main line\n",
    "    opponents = []\n",
    "    for part in main_parts[3:]:\n",
    "        opponents += [int(n) for n in re.findall(r'\\d+', part)]\n",
    "\n",
    "    #Save the player info\n",
    "    players[player_number] = {\n",
    "        \"Name\": name,\n",
    "        \"State\": state,\n",
    "        \"Total\": total_points,\n",
    "        \"Rating\": rating,\n",
    "        \"Opps\": opponents\n",
    "    }"
   ]
  },
  {
   "cell_type": "code",
   "execution_count": 8,
   "id": "a25348b9",
   "metadata": {},
   "outputs": [],
   "source": [
    "#Calculate average opponent rating\n",
    "for num, player in players.items():\n",
    "    opponent_ratings = []\n",
    "    \n",
    "    for opp_num in player[\"Opps\"]:\n",
    "        opponent_ratings.append(players[opp_num][\"Rating\"])\n",
    "\n",
    "    avg_opp = round(sum(opponent_ratings) / len(opponent_ratings)) if opponent_ratings else 0\n",
    "    player[\"AvgOpp\"] = avg_opp"
   ]
  },
  {
   "cell_type": "code",
   "execution_count": 9,
   "id": "b66e5057",
   "metadata": {},
   "outputs": [
    {
     "name": "stdout",
     "output_type": "stream",
     "text": [
      "CSV file 'chess_tournament_results.csv' has been created.\n"
     ]
    }
   ],
   "source": [
    "#Define what columns to include in the CSV\n",
    "fieldnames = [\"Name\", \"State\", \"Total\", \"Rating\", \"AvgOpp\"]\n",
    "\n",
    "#Write everything to a CSV file\n",
    "with open(\"chess_tournament_results.csv\", \"w\", newline=\"\") as f:\n",
    "    writer = csv.DictWriter(f, fieldnames=fieldnames)\n",
    "    writer.writeheader()\n",
    "    for player_num in sorted(players):\n",
    "        row = {field: players[player_num][field] for field in fieldnames}\n",
    "        writer.writerow(row)\n",
    "\n",
    "print(\"CSV file 'chess_tournament_results.csv' has been created.\")"
   ]
  }
 ],
 "metadata": {
  "kernelspec": {
   "display_name": "Python 3 (ipykernel)",
   "language": "python",
   "name": "python3"
  },
  "language_info": {
   "codemirror_mode": {
    "name": "ipython",
    "version": 3
   },
   "file_extension": ".py",
   "mimetype": "text/x-python",
   "name": "python",
   "nbconvert_exporter": "python",
   "pygments_lexer": "ipython3",
   "version": "3.7.0"
  }
 },
 "nbformat": 4,
 "nbformat_minor": 5
}
